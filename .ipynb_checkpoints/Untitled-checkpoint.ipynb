{
 "cells": [
  {
   "cell_type": "markdown",
   "id": "5b9782ee",
   "metadata": {},
   "source": [
    "# Topic “Projection of Financial Risks” or “Ensuring Financial Stability”"
   ]
  },
  {
   "cell_type": "markdown",
   "id": "e5ba8c6c",
   "metadata": {},
   "source": [
    "## We have summarised various data from different sources (e.g. BIS site, ECB Data)"
   ]
  },
  {
   "cell_type": "markdown",
   "id": "f9766067",
   "metadata": {},
   "source": [
    "## We will start from a list of financial related variables:\n",
    "    #Global Liquidity Indicators\n",
    "    # Bank Loans\n",
    "    # Non-Banks borrowers\n",
    "    # Real Residential Property Prices\n",
    "    # Consumer Prices\n",
    "    # Bank Credit to private non-financial sector\n",
    "    # Total Credit \n",
    "    # Debt service ratio \n",
    "    # Policy Rate\n",
    "    # Yield Curve Data"
   ]
  },
  {
   "cell_type": "markdown",
   "id": "4aa5f057",
   "metadata": {},
   "source": [
    "# Next we will prepare the Data\n",
    "\n",
    "    ## Handling missing data, outliers, and feature scaling"
   ]
  },
  {
   "cell_type": "markdown",
   "id": "64806395",
   "metadata": {},
   "source": [
    "## And we will define the Forecasting Model"
   ]
  },
  {
   "cell_type": "markdown",
   "id": "bbe083d2",
   "metadata": {},
   "source": [
    "## We can define the model from traditional statistical methods [e.g. Regression or Vector Autoregressive Model) \n",
    "\n",
    "## And Machine Learning Models (Supervised or Unsupervised Models)"
   ]
  },
  {
   "cell_type": "markdown",
   "id": "ee4afe64",
   "metadata": {},
   "source": [
    "# Finally we will perform Model Training and Evaluation\n",
    "## Initally Splitting data into training and testing sets\n",
    "## And then choose appropriate metrics for evaluation:\n",
    "        ## e.g. Mean absolute error (MAE), Root mean squared error (RMSE), Mean absolute percentage error (MAPE),\n",
    "        ## F1-score, ## Accuracy score, ## ROC AUC"
   ]
  },
  {
   "cell_type": "code",
   "execution_count": null,
   "id": "fa25b56a",
   "metadata": {},
   "outputs": [],
   "source": []
  },
  {
   "cell_type": "code",
   "execution_count": null,
   "id": "8294029a",
   "metadata": {},
   "outputs": [],
   "source": []
  },
  {
   "cell_type": "code",
   "execution_count": null,
   "id": "5559c326",
   "metadata": {},
   "outputs": [],
   "source": []
  }
 ],
 "metadata": {
  "kernelspec": {
   "display_name": "Python 3 (ipykernel)",
   "language": "python",
   "name": "python3"
  },
  "language_info": {
   "codemirror_mode": {
    "name": "ipython",
    "version": 3
   },
   "file_extension": ".py",
   "mimetype": "text/x-python",
   "name": "python",
   "nbconvert_exporter": "python",
   "pygments_lexer": "ipython3",
   "version": "3.11.4"
  }
 },
 "nbformat": 4,
 "nbformat_minor": 5
}
