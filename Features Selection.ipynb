{
 "cells": [
  {
   "cell_type": "markdown",
   "id": "11045eb9",
   "metadata": {},
   "source": [
    "# Features Selection"
   ]
  },
  {
   "cell_type": "markdown",
   "id": "23d5468e",
   "metadata": {},
   "source": [
    "## It would be good a same date range across the independent variables"
   ]
  },
  {
   "cell_type": "markdown",
   "id": "90926cbb",
   "metadata": {},
   "source": [
    "## Correlation Heatmap"
   ]
  },
  {
   "cell_type": "code",
   "execution_count": 4,
   "id": "15d4de9c",
   "metadata": {},
   "outputs": [],
   "source": [
    "# libraries required\n",
    "\n",
    "import seaborn as sns\n"
   ]
  },
  {
   "cell_type": "markdown",
   "id": "6fa6ccc4",
   "metadata": {},
   "source": [
    "## Define a name of the df which includes all the features"
   ]
  },
  {
   "cell_type": "code",
   "execution_count": null,
   "id": "09bd3f96",
   "metadata": {},
   "outputs": [],
   "source": [
    "# Careful on the naming for the df\n",
    "sns.heatmap(df.corr(), \n",
    "            annot=True,  \n",
    "            annot_kws={\"size\": 11}, \n",
    "            fmt=\".2f\", \n",
    "            linewidth=.5, \n",
    "            cmap=\"coolwarm\", \n",
    "            cbar=True); #cmap=\"crest\", virids, magma\n",
    "\n",
    "plt.title('Features Set Correlations')"
   ]
  },
  {
   "cell_type": "markdown",
   "id": "29c3886b",
   "metadata": {},
   "source": [
    "## Drop Highly Correlated Features; to remove multicollinearity"
   ]
  },
  {
   "cell_type": "code",
   "execution_count": null,
   "id": "aa5d2843",
   "metadata": {},
   "outputs": [],
   "source": []
  },
  {
   "cell_type": "markdown",
   "id": "966878bb",
   "metadata": {},
   "source": [
    "## Preration for the Box-Plot"
   ]
  },
  {
   "cell_type": "code",
   "execution_count": null,
   "id": "64b74026",
   "metadata": {},
   "outputs": [],
   "source": [
    "# Define the Name of the df\n",
    "df.describe().T.sort_values(by=['min', 'mean'])\n",
    "\n",
    "# Group the variables for the same range to have a better box-plot\n",
    "df_selected = df[['', '', '',   \n",
    "                ]]"
   ]
  },
  {
   "cell_type": "code",
   "execution_count": null,
   "id": "b28de166",
   "metadata": {},
   "outputs": [],
   "source": [
    "# data frame for Box plot graph\n",
    "\n",
    "sns.boxplot(x = 'variable', y='value', data = pd.melt(df_selected))\n",
    "plt.xlabel(''); plt.ylabel('')\n",
    "plt.title('Box Plot')\n"
   ]
  },
  {
   "cell_type": "code",
   "execution_count": 1,
   "id": "3a156bda",
   "metadata": {},
   "outputs": [
    {
     "name": "stdout",
     "output_type": "stream",
     "text": [
      "On branch main\n",
      "Your branch is up to date with 'origin/main'.\n",
      "\n",
      "Untracked files:\n",
      "  (use \"git add <file>...\" to include in what will be committed)\n",
      "\t.ipynb_checkpoints/\n",
      "\tFeatures Selection.ipynb\n",
      "\tUntitled.ipynb\n",
      "\tuntitled.txt\n",
      "\n",
      "nothing added to commit but untracked files present (use \"git add\" to track)\n"
     ]
    }
   ],
   "source": [
    "!git status"
   ]
  },
  {
   "cell_type": "code",
   "execution_count": 2,
   "id": "dea91dac",
   "metadata": {},
   "outputs": [
    {
     "name": "stderr",
     "output_type": "stream",
     "text": [
      "warning: in the working copy of '.ipynb_checkpoints/Untitled-checkpoint.ipynb', LF will be replaced by CRLF the next time Git touches it\n",
      "warning: in the working copy of '.ipynb_checkpoints/logistic_regression-checkpoint.ipynb', LF will be replaced by CRLF the next time Git touches it\n",
      "warning: in the working copy of 'Features Selection.ipynb', LF will be replaced by CRLF the next time Git touches it\n",
      "warning: in the working copy of 'Untitled.ipynb', LF will be replaced by CRLF the next time Git touches it\n"
     ]
    }
   ],
   "source": [
    "!git add ./"
   ]
  },
  {
   "cell_type": "code",
   "execution_count": 3,
   "id": "d729c698",
   "metadata": {},
   "outputs": [
    {
     "name": "stdout",
     "output_type": "stream",
     "text": [
      "On branch main\n",
      "Your branch is up to date with 'origin/main'.\n",
      "\n",
      "Changes to be committed:\n",
      "  (use \"git restore --staged <file>...\" to unstage)\n",
      "\tnew file:   .ipynb_checkpoints/Untitled-checkpoint.ipynb\n",
      "\tnew file:   .ipynb_checkpoints/logistic_regression-checkpoint.ipynb\n",
      "\tnew file:   Features Selection.ipynb\n",
      "\tnew file:   Untitled.ipynb\n",
      "\n"
     ]
    }
   ],
   "source": [
    "!git status"
   ]
  },
  {
   "cell_type": "code",
   "execution_count": 5,
   "id": "74922507",
   "metadata": {},
   "outputs": [
    {
     "name": "stdout",
     "output_type": "stream",
     "text": [
      "[main d927936] feature selection code\n",
      " Committer: Georgios Karanikolas <Georgios.Karanikolas@eba.europa.eu>\n",
      "Your name and email address were configured automatically based\n",
      "on your username and hostname. Please check that they are accurate.\n",
      "You can suppress this message by setting them explicitly. Run the\n",
      "following command and follow the instructions in your editor to edit\n",
      "your configuration file:\n",
      "\n",
      "    git config --global --edit\n",
      "\n",
      "After doing this, you may fix the identity used for this commit with:\n",
      "\n",
      "    git commit --amend --reset-author\n",
      "\n",
      " 4 files changed, 3109 insertions(+)\n",
      " create mode 100644 .ipynb_checkpoints/Untitled-checkpoint.ipynb\n",
      " create mode 100644 .ipynb_checkpoints/logistic_regression-checkpoint.ipynb\n",
      " create mode 100644 Features Selection.ipynb\n",
      " create mode 100644 Untitled.ipynb\n"
     ]
    },
    {
     "name": "stderr",
     "output_type": "stream",
     "text": [
      "warning: in the working copy of 'Features Selection.ipynb', LF will be replaced by CRLF the next time Git touches it\n"
     ]
    }
   ],
   "source": [
    "!git commit -am \"feature selection code\""
   ]
  },
  {
   "cell_type": "code",
   "execution_count": null,
   "id": "2fb928ae",
   "metadata": {},
   "outputs": [],
   "source": [
    "!git pull"
   ]
  },
  {
   "cell_type": "code",
   "execution_count": 7,
   "id": "6d8e7d28",
   "metadata": {},
   "outputs": [
    {
     "name": "stderr",
     "output_type": "stream",
     "text": [
      "fatal: not a git repository (or any of the parent directories): .git\n"
     ]
    }
   ],
   "source": [
    "!git push "
   ]
  },
  {
   "cell_type": "code",
   "execution_count": 8,
   "id": "9065e653",
   "metadata": {},
   "outputs": [],
   "source": [
    "!git config --global user.email \"Georgios.Karanikolas@eba.europa.eu\"\n",
    "!git config --global user.name \"gebaeu\""
   ]
  },
  {
   "cell_type": "code",
   "execution_count": 9,
   "id": "aaca3a1e",
   "metadata": {},
   "outputs": [
    {
     "name": "stdout",
     "output_type": "stream",
     "text": [
      "diff.astextplain.textconv=astextplain\n",
      "filter.lfs.clean=git-lfs clean -- %f\n",
      "filter.lfs.smudge=git-lfs smudge -- %f\n",
      "filter.lfs.process=git-lfs filter-process\n",
      "filter.lfs.required=true\n",
      "http.sslbackend=openssl\n",
      "http.sslcainfo=C:/Program Files/Git/mingw64/etc/ssl/certs/ca-bundle.crt\n",
      "core.autocrlf=true\n",
      "core.fscache=true\n",
      "core.symlinks=false\n",
      "pull.rebase=false\n",
      "credential.helper=manager\n",
      "credential.https://dev.azure.com.usehttppath=true\n",
      "init.defaultbranch=master\n",
      "user.email=Georgios.Karanikolas@eba.europa.eu\n",
      "user.name=gebaeu\n",
      "core.repositoryformatversion=0\n",
      "core.filemode=false\n",
      "core.bare=false\n",
      "core.logallrefupdates=true\n",
      "core.symlinks=false\n",
      "core.ignorecase=true\n",
      "remote.origin.url=https://github.com/albertame/eu_sdfa_forecastingTools\n",
      "remote.origin.fetch=+refs/heads/*:refs/remotes/origin/*\n",
      "branch.main.remote=origin\n",
      "branch.main.merge=refs/heads/main\n"
     ]
    }
   ],
   "source": [
    "! git config --list\n"
   ]
  },
  {
   "cell_type": "code",
   "execution_count": null,
   "id": "ad83c4a1",
   "metadata": {},
   "outputs": [],
   "source": []
  }
 ],
 "metadata": {
  "kernelspec": {
   "display_name": "Python 3 (ipykernel)",
   "language": "python",
   "name": "python3"
  },
  "language_info": {
   "codemirror_mode": {
    "name": "ipython",
    "version": 3
   },
   "file_extension": ".py",
   "mimetype": "text/x-python",
   "name": "python",
   "nbconvert_exporter": "python",
   "pygments_lexer": "ipython3",
   "version": "3.11.4"
  }
 },
 "nbformat": 4,
 "nbformat_minor": 5
}
