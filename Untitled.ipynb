{
 "cells": [
  {
   "cell_type": "markdown",
   "id": "e19af979",
   "metadata": {},
   "source": [
    "# Topic “Projection of Financial Risks” or “Ensuring Financial Stability”"
   ]
  },
  {
   "cell_type": "markdown",
   "id": "06df9879",
   "metadata": {},
   "source": [
    "## We have summarised various data from different sources (e.g. BIS site, ECB Data)"
   ]
  },
  {
   "cell_type": "markdown",
   "id": "52640e05",
   "metadata": {},
   "source": [
    "## We will start from a list of financial related variables:\n",
    "    #Global Liquidity Indicators\n",
    "    # Bank Loans\n",
    "    # Non-Banks borrowers\n",
    "    # Real Residential Property Prices\n",
    "    # Consumer Prices\n",
    "    # Bank Credit to private non-financial sector\n",
    "    # Total Credit \n",
    "    # Debt service ratio \n",
    "    # Policy Rate\n",
    "    # Yield Curve Data"
   ]
  },
  {
   "cell_type": "markdown",
   "id": "c042afd6",
   "metadata": {},
   "source": [
    "# Next we will prepare the Data\n",
    "\n",
    "    ## Handling missing data, outliers, and feature scaling"
   ]
  },
  {
   "cell_type": "markdown",
   "id": "666c73c2",
   "metadata": {},
   "source": [
    "## And we will define the Forecasting Model"
   ]
  },
  {
   "cell_type": "markdown",
   "id": "584e8029",
   "metadata": {},
   "source": [
    "## We can define the model from traditional statistical methods [e.g. Regression or Vector Autoregressive Model) \n",
    "\n",
    "## And Machine Learning Models (Supervised or Unsupervised Models)"
   ]
  },
  {
   "cell_type": "markdown",
   "id": "3af8629b",
   "metadata": {},
   "source": [
    "# Finally we will perform Model Training and Evaluation\n",
    "## Initally Splitting data into training and testing sets\n",
    "## And then choose appropriate metrics for evaluation:\n",
    "        ## e.g. Mean absolute error (MAE), Root mean squared error (RMSE), Mean absolute percentage error (MAPE),\n",
    "        ## F1-score, ## Accuracy score, ## ROC AUC"
   ]
  },
  {
   "cell_type": "code",
   "execution_count": 2,
   "id": "c4510f43",
   "metadata": {},
   "outputs": [
    {
     "name": "stdout",
     "output_type": "stream",
     "text": [
      "On branch main\n",
      "Your branch is up to date with 'origin/main'.\n",
      "\n",
      "Changes not staged for commit:\n",
      "  (use \"git add <file>...\" to update what will be committed)\n",
      "  (use \"git restore <file>...\" to discard changes in working directory)\n",
      "\tmodified:   logistic_regression.ipynb\n",
      "\n",
      "Untracked files:\n",
      "  (use \"git add <file>...\" to include in what will be committed)\n",
      "\t.ipynb_checkpoints/\n",
      "\tUntitled.ipynb\n",
      "\tuntitled.txt\n",
      "\n",
      "no changes added to commit (use \"git add\" and/or \"git commit -a\")\n"
     ]
    }
   ],
   "source": [
    "!git status"
   ]
  },
  {
   "cell_type": "code",
   "execution_count": 3,
   "id": "b33676d0",
   "metadata": {},
   "outputs": [
    {
     "name": "stdout",
     "output_type": "stream",
     "text": [
      "[main 4b458ba] project description"
     ]
    },
    {
     "name": "stderr",
     "output_type": "stream",
     "text": [
      "warning: in the working copy of 'logistic_regression.ipynb', LF will be replaced by CRLF the next time Git touches it\n"
     ]
    },
    {
     "name": "stdout",
     "output_type": "stream",
     "text": [
      "\n",
      " Committer: Georgios Karanikolas <Georgios.Karanikolas@eba.europa.eu>\n",
      "Your name and email address were configured automatically based\n",
      "on your username and hostname. Please check that they are accurate.\n",
      "You can suppress this message by setting them explicitly. Run the\n",
      "following command and follow the instructions in your editor to edit\n",
      "your configuration file:\n",
      "\n",
      "    git config --global --edit\n",
      "\n",
      "After doing this, you may fix the identity used for this commit with:\n",
      "\n",
      "    git commit --amend --reset-author\n",
      "\n",
      " 1 file changed, 22 insertions(+), 3 deletions(-)\n"
     ]
    }
   ],
   "source": [
    "!git commit -am \"project description\""
   ]
  },
  {
   "cell_type": "code",
   "execution_count": 5,
   "id": "43813752",
   "metadata": {},
   "outputs": [
    {
     "name": "stderr",
     "output_type": "stream",
     "text": [
      "Everything up-to-date\n"
     ]
    }
   ],
   "source": [
    "!git push"
   ]
  },
  {
   "cell_type": "code",
   "execution_count": null,
   "id": "7be26456",
   "metadata": {},
   "outputs": [],
   "source": []
  }
 ],
 "metadata": {
  "kernelspec": {
   "display_name": "Python 3 (ipykernel)",
   "language": "python",
   "name": "python3"
  },
  "language_info": {
   "codemirror_mode": {
    "name": "ipython",
    "version": 3
   },
   "file_extension": ".py",
   "mimetype": "text/x-python",
   "name": "python",
   "nbconvert_exporter": "python",
   "pygments_lexer": "ipython3",
   "version": "3.11.4"
  }
 },
 "nbformat": 4,
 "nbformat_minor": 5
}
