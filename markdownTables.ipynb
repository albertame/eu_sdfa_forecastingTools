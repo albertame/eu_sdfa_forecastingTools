{
 "cells": [
  {
   "cell_type": "code",
   "execution_count": 1,
   "metadata": {},
   "outputs": [],
   "source": [
    "#%% Function\n",
    "import pandas as pd\n",
    "def dataframe_to_markdown(df):\n",
    "    \"\"\"\n",
    "    Converts a pandas DataFrame to a markdown table.\n",
    "    \n",
    "    Parameters:\n",
    "    df (pd.DataFrame): The DataFrame to convert.\n",
    "    \n",
    "    Returns:\n",
    "    str: The markdown table as a string.\n",
    "    \"\"\"\n",
    "    def escape_pipe(s):\n",
    "        \"\"\"Escape pipe characters in the cell values to avoid markdown misinterpretation.\"\"\"\n",
    "        return str(s).replace('|', '\\\\|')\n",
    "\n",
    "    # Create the header row\n",
    "    header = '| ' + ' | '.join(escape_pipe(col) for col in df.columns) + ' |'\n",
    "    \n",
    "    # Create the separator row\n",
    "    separator = '| ' + ' | '.join(['---'] * len(df.columns)) + ' |'\n",
    "    \n",
    "    # Create the data rows\n",
    "    rows = []\n",
    "    for index, row in df.iterrows():\n",
    "        rows.append('| ' + ' | '.join(escape_pipe(cell) for cell in row) + ' |')\n",
    "    \n",
    "    # Combine all parts into a single markdown string\n",
    "    markdown = '\\n'.join([header, separator] + rows)\n",
    "    return markdown"
   ]
  },
  {
   "cell_type": "code",
   "execution_count": 13,
   "metadata": {},
   "outputs": [
    {
     "ename": "SyntaxError",
     "evalue": "Did you mean to use 'from ... import ...' instead? (1470624996.py, line 3)",
     "output_type": "error",
     "traceback": [
      "\u001b[1;36m  Cell \u001b[1;32mIn[13], line 3\u001b[1;36m\u001b[0m\n\u001b[1;33m    import get_processed_df from utils\u001b[0m\n\u001b[1;37m    ^\u001b[0m\n\u001b[1;31mSyntaxError\u001b[0m\u001b[1;31m:\u001b[0m Did you mean to use 'from ... import ...' instead?\n"
     ]
    }
   ],
   "source": [
    "#%% Load functions\n",
    "# pd.set_option('display.float_format', lambda x: '%.1f' % x)\n",
    "from utils import get_processed_df\n",
    "df = pd.read_csv('./data/data_input_quarterly.csv')\n",
    "df = get_processed_df(df, \"DE\",\"\", verbose=True)\n",
    "\n",
    "dataframe_to_markdown(df.describe().applymap(lambda x: f\"{x:0.3f}\"))"
   ]
  }
 ],
 "metadata": {
  "kernelspec": {
   "display_name": "eui",
   "language": "python",
   "name": "python3"
  },
  "language_info": {
   "codemirror_mode": {
    "name": "ipython",
    "version": 3
   },
   "file_extension": ".py",
   "mimetype": "text/x-python",
   "name": "python",
   "nbconvert_exporter": "python",
   "pygments_lexer": "ipython3",
   "version": "3.12.3"
  }
 },
 "nbformat": 4,
 "nbformat_minor": 2
}
